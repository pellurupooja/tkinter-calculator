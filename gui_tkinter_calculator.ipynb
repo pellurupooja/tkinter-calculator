{
 "cells": [
  {
   "cell_type": "code",
   "execution_count": 1,
   "metadata": {},
   "outputs": [],
   "source": [
    "from tkinter import *\n",
    " \n",
    "def add_numbers():\n",
    "    res=int(e1.get())+int(e2.get())\n",
    "    label_text.set(res)\n",
    " \n",
    "window = Tk()\n",
    "label_text=StringVar();\n",
    "Label(window, text=\"Enter First Number:\").grid(row=0, sticky=W)\n",
    "Label(window, text=\"Enter Second Number:\").grid(row=1, sticky=W)\n",
    "Label(window, text=\"Result of Addition:\").grid(row=3, sticky=W)\n",
    "result=Label(window, text=\"\", textvariable=label_text).grid(row=3,column=1, sticky=W)\n",
    " \n",
    "e1 = Entry(window)\n",
    "e2 = Entry(window)\n",
    " \n",
    "e1.grid(row=0, column=1)\n",
    "e2.grid(row=1, column=1)\n",
    " \n",
    "b = Button(window, text=\"Calculate\", command=add_numbers)\n",
    "b.grid(row=0, column=2,columnspan=2, rowspan=2,sticky=W+E+N+S, padx=5, pady=5)\n",
    " \n",
    " \n",
    "mainloop()"
   ]
  },
  {
   "cell_type": "code",
   "execution_count": null,
   "metadata": {},
   "outputs": [],
   "source": [
    "from tkinter import *\n",
    "root=Tk()\n",
    "lable1=Label(root, text=\"Enter first number\").grid(row=0, column=0)\n",
    "lable2=Label(root, text=\"Enter Second Number\").grid(row=1, column=0)\n",
    "\n",
    "entry1=Entry(root)\n",
    "entry2=Entry(root)\n",
    "entry1.grid(row=0, column=1)\n",
    "entry2.grid(row=1, column=1)\n",
    "\n",
    "def addition():\n",
    "    n1 = entry1.get()\n",
    "    n2 = entry2.get()\n",
    "    result= int(n1)+int(n2)\n",
    "    lable3=Label(root, text=str(result)).grid(row=3,column=0)\n",
    "\n",
    "def subtraction():\n",
    "    n1 = entry1.get()\n",
    "    n2 = entry2.get()\n",
    "    sub=int(n1)-int(n2)\n",
    "    lable4=Label(root, text=str(sub)).grid(row=3,column=1)\n",
    "\n",
    "def multiplication():\n",
    "    n1 = entry1.get()\n",
    "    n2 = entry2.get()\n",
    "    mul=int(n1)*int(n2)\n",
    "    label5=Label(root, text=str(mul)).grid(row=3,column=2)\n",
    "\n",
    "def division():\n",
    "    n1 = entry1.get()\n",
    "    n2 = entry2.get()\n",
    "    div=int(n1)/int(n2)\n",
    "    lable6=Label(root, text=str(div)).grid(row=3,column=3)\n",
    "\n",
    "button1=Button(root, text=\"ADD\", command=addition).grid(row=2,column=0)\n",
    "button2=Button(root, text=\"SUB\", command=subtraction).grid(row=2,column=1)\n",
    "button3=Button(root, text=\"MUL\", command=multiplication).grid(row=2,column=2)\n",
    "button4=Button(root, text=\"DIV\", command=division).grid(row=2,column=3)\n",
    "\n",
    "\n",
    "root.mainloop()"
   ]
  },
  {
   "cell_type": "code",
   "execution_count": null,
   "metadata": {},
   "outputs": [],
   "source": []
  }
 ],
 "metadata": {
  "kernelspec": {
   "display_name": "Python 3",
   "language": "python",
   "name": "python3"
  },
  "language_info": {
   "codemirror_mode": {
    "name": "ipython",
    "version": 3
   },
   "file_extension": ".py",
   "mimetype": "text/x-python",
   "name": "python",
   "nbconvert_exporter": "python",
   "pygments_lexer": "ipython3",
   "version": "3.7.4"
  }
 },
 "nbformat": 4,
 "nbformat_minor": 2
}
